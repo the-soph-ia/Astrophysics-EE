{
 "cells": [
  {
   "cell_type": "code",
   "execution_count": null,
   "id": "roman-arbitration",
   "metadata": {},
   "outputs": [],
   "source": [
    "import pandas as pd\n",
    "import os\n",
    "import numpy as np\n",
    "%matplotlib inline\n",
    "\n",
    "\n",
    "'''Defining the database's file path'''\n",
    "notebook_path = os.path.abspath(\"EE Graphs.ipynb\")\n",
    "\n",
    "data_csv = os.path.join(os.path.dirname(notebook_path), 'Data Files\\\\data.csv')\n",
    "rad_vel_csv = os.path.join(os.path.dirname(notebook_path), 'Data Files\\\\rad_vel.csv')\n",
    "microlensing_csv = os.path.join(os.path.dirname(notebook_path), 'Data Files\\\\microlensing.csv')\n",
    "ttv_csv = os.path.join(os.path.dirname(notebook_path), 'Data Files\\\\ttv.csv')\n",
    "imaging_csv = os.path.join(os.path.dirname(notebook_path), 'Data Files\\\\imaging.csv')\n",
    "transit_csv = os.path.join(os.path.dirname(notebook_path), 'Data Files\\\\transit.csv')\n",
    "transit_csv_condensed = os.path.join(os.path.dirname(notebook_path), 'Data Files\\\\transit_csv_condensed.csv')\n",
    "\n",
    "ratio = os.path.join(os.path.dirname(notebook_path),'Data Files\\\\ratio.csv')\n",
    "extd = os.path.join(os.path.dirname(notebook_path), 'Data Files\\\\data_max.csv')\n",
    "\n",
    "all_csv_1 = os.path.join(os.path.dirname(notebook_path), 'Data Files\\\\ALL_planet_num==1.csv')\n",
    "all_csv_1_CUT = os.path.join(os.path.dirname(notebook_path), 'Data Files\\\\ALL_planet_num==1_CUT.csv')\n",
    "all_csv_2 = os.path.join(os.path.dirname(notebook_path), 'Data Files\\\\ALL_planet_num==2.csv')\n",
    "all_csv_3 = os.path.join(os.path.dirname(notebook_path), 'Data Files\\\\ALL_planet_num==3.csv')\n",
    "all_csv_4 = os.path.join(os.path.dirname(notebook_path), 'Data Files\\\\ALL_planet_num==4.csv')\n",
    "all_csv_5 = os.path.join(os.path.dirname(notebook_path), 'Data Files\\\\ALL_planet_num==5.csv')\n",
    "all_csv_6 = os.path.join(os.path.dirname(notebook_path), 'Data Files\\\\ALL_planet_num==6.csv')\n",
    "all_csv_7 = os.path.join(os.path.dirname(notebook_path), 'Data Files\\\\ALL_planet_num==7.csv')\n",
    "all_csv_8 = os.path.join(os.path.dirname(notebook_path), 'Data Files\\\\ALL_planet_num==8.csv')\n",
    "\n",
    "'''formatting the csv file for pandas DataFrame'''\n",
    "table = pd.read_csv(data_csv)"
   ]
  },
  {
   "cell_type": "code",
   "execution_count": null,
   "id": "mathematical-crossing",
   "metadata": {},
   "outputs": [],
   "source": [
    "'''\n",
    "Given: Discovery Method = Radial Velocity\n",
    "Generated: Eccentricity, Mass (Relative to Earth), Mass (Relative to Jupiter), Density, Distance (From Star)\n",
    "'''\n",
    "\n",
    "with open(rad_vel_csv,'w') as f1:\n",
    "        [f1.write(str(table.loc[i].pl_orbeccen)+\",\"\n",
    "                  +str(table.loc[i].pl_bmasse)+\",\"\n",
    "                  +str(table.loc[i].pl_bmassj)+\",\"\n",
    "                  +str(table.loc[i].pl_dens)+\",\"\n",
    "                  +str(table.loc[i].sy_dist)+\"\\n\")\n",
    "         for i,line in enumerate(table.discoverymethod)if line==\"Radial Velocity\" and table.loc[i].sy_pnum==1]\n",
    "\n",
    "rad_vel_table = pd.read_csv(rad_vel_csv, names=['eccentricity','mass_e','mass_j','density','dist'])\n",
    "sample_size = rad_vel_table.index.stop\n",
    "print(sample_size)"
   ]
  },
  {
   "cell_type": "code",
   "execution_count": null,
   "id": "comparative-acrobat",
   "metadata": {},
   "outputs": [],
   "source": [
    "        '''Graphing'''\n",
    "import matplotlib.pyplot as plt\n",
    "plt.scatter(rad_vel_table.mass_j, rad_vel_table.density, marker='.',color='purple')\n",
    "plt.title(\"Density vs Mass\")\n",
    "plt.xlabel(\"Mass (based on Jupiter)\")\n",
    "plt.ylabel(\"Density\")"
   ]
  },
  {
   "cell_type": "code",
   "execution_count": null,
   "id": "boolean-terry",
   "metadata": {},
   "outputs": [],
   "source": [
    "        '''Graphing'''\n",
    "import matplotlib.pyplot as plt\n",
    "plt.scatter(rad_vel_table.density,rad_vel_table.mass_j, marker='.',color='purple')\n",
    "plt.title(\"Mass vs Density : Radial Velocity\")\n",
    "plt.ylabel(\"Mass (based on Jupiter)\")\n",
    "plt.xlabel(\"Density\")"
   ]
  },
  {
   "cell_type": "code",
   "execution_count": null,
   "id": "drawn-wisdom",
   "metadata": {},
   "outputs": [],
   "source": [
    "        '''Graphing'''\n",
    "import matplotlib.pyplot as plt\n",
    "plt.scatter(rad_vel_table.dist,rad_vel_table.eccentricity, marker='.',color='purple')\n",
    "plt.title(\"Eccentricity vs Distance from Star\")\n",
    "plt.xlabel(\"Distance\")\n",
    "plt.ylabel(\"Eccentricity\")"
   ]
  },
  {
   "cell_type": "code",
   "execution_count": null,
   "id": "large-scanning",
   "metadata": {},
   "outputs": [],
   "source": [
    "        '''Graphing'''\n",
    "import matplotlib.pyplot as plt\n",
    "plt.scatter(rad_vel_table.dist, rad_vel_table.mass_e, marker='.',color='purple')\n",
    "plt.title(\"Mass vs Distance\")\n",
    "plt.xlabel(\"Distance\")\n",
    "plt.ylabel(\"Mass\")"
   ]
  },
  {
   "cell_type": "code",
   "execution_count": null,
   "id": "located-melbourne",
   "metadata": {},
   "outputs": [],
   "source": [
    "'''\n",
    "Given: Discovery Method = Imaging\n",
    "Generated: Eccentricity, Mass (Relative to Earth), Mass (Relative to Jupiter), Density, Distance (From Star)\n",
    "'''\n",
    "with open(imaging_csv,'w') as f3:\n",
    "        [f3.write(str(table.loc[i].pl_orbeccen)+\",\"\n",
    "                  +str(table.loc[i].pl_bmasse)+\",\"\n",
    "                  +str(table.loc[i].pl_bmassj)+\",\"\n",
    "                  +str(table.loc[i].pl_dens)+\",\"\n",
    "                  +str(table.loc[i].sy_dist)+\"\\n\")for i,line in enumerate(table.discoverymethod)if line==\"Imaging\"]\n",
    "        \n",
    "imaging_table = pd.read_csv(imaging_csv, names=['eccentricity','mass_e','mass_j','density','dist'])\n",
    "sample_size = imaging_table.index.stop\n",
    "print(sample_size)"
   ]
  },
  {
   "cell_type": "code",
   "execution_count": null,
   "id": "comprehensive-municipality",
   "metadata": {},
   "outputs": [],
   "source": [
    "        '''Graphing'''\n",
    "import math\n",
    "import matplotlib.pyplot as plt\n",
    "mass_jupiter = plt.scatter(imaging_table.eccentricity, [math.log10(m) for m in imaging_table.mass_j], marker='.',color='purple',label=\"Mass\")\n",
    "density = plt.scatter(imaging_table.eccentricity, [math.log10(d) for d in imaging_table.density],marker='.',color='orange',label=\"Density\")\n",
    "legend = plt.legend(handles=[mass_jupiter,density],loc='upper right')\n",
    "plt.title(\"Mass and Density vs Eccentricity\")\n",
    "plt.xlabel(\"Orbital Eccentricity\")\n",
    "plt.ylabel(\"Log of mass/density\")"
   ]
  },
  {
   "cell_type": "code",
   "execution_count": null,
   "id": "fatty-productivity",
   "metadata": {},
   "outputs": [],
   "source": [
    "        '''Graphing'''\n",
    "import matplotlib.pyplot as plt\n",
    "plt.scatter(imaging_table.mass_j, imaging_table.density, marker='.',color='purple')\n",
    "plt.title(\"Density vs Mass\")\n",
    "plt.xlabel(\"Mass (based on Jupiter)\")\n",
    "plt.ylabel(\"Density\")"
   ]
  },
  {
   "cell_type": "code",
   "execution_count": null,
   "id": "close-democrat",
   "metadata": {},
   "outputs": [],
   "source": [
    "        '''Graphing'''\n",
    "import matplotlib.pyplot as plt\n",
    "plt.scatter(imaging_table.density,imaging_table.mass_j, marker='.',color='purple')\n",
    "plt.title(\"Mass vs Density\")\n",
    "plt.ylabel(\"Mass (based on Jupiter)\")\n",
    "plt.xlabel(\"Density\")"
   ]
  },
  {
   "cell_type": "code",
   "execution_count": null,
   "id": "white-monkey",
   "metadata": {},
   "outputs": [],
   "source": [
    "        '''Graphing'''\n",
    "import matplotlib.pyplot as plt\n",
    "plt.scatter(imaging_table.dist,imaging_table.eccentricity, marker='.',color='purple')\n",
    "plt.title(\"Eccentricity vs Distance from Star\")\n",
    "plt.xlabel(\"Distance\")\n",
    "plt.ylabel(\"Eccentricity\")"
   ]
  },
  {
   "cell_type": "code",
   "execution_count": null,
   "id": "enclosed-adoption",
   "metadata": {},
   "outputs": [],
   "source": [
    "        '''Graphing'''\n",
    "import matplotlib.pyplot as plt\n",
    "plt.scatter(imaging_table.dist, imaging_table.mass_e, marker='.',color='purple')\n",
    "plt.title(\"Mass vs Distance\")\n",
    "plt.xlabel(\"Distance\")\n",
    "plt.ylabel(\"Mass\")"
   ]
  },
  {
   "cell_type": "code",
   "execution_count": null,
   "id": "moral-father",
   "metadata": {},
   "outputs": [],
   "source": [
    "'''\n",
    "Given: Discovery Method = Transit\n",
    "Generated: Eccentricity, Mass (Relative to Earth), Mass (Relative to Jupiter), Density, Distance (From Star)\n",
    "'''\n",
    "with open(transit_csv,'w') as f4:\n",
    "        [f4.write(str(table.loc[i].pl_orbeccen)+\",\"\n",
    "                  +str(table.loc[i].pl_bmasse)+\",\"\n",
    "                  +str(table.loc[i].pl_bmassj)+\",\"\n",
    "                  +str(table.loc[i].pl_dens)+\",\"\n",
    "                  +str(table.loc[i].sy_dist)+\"\\n\")for i,line in enumerate(table.discoverymethod)if line==\"Transit\"]\n",
    "        \n",
    "transit_table = pd.read_csv(transit_csv, names=['eccentricity','mass_e','mass_j','density','dist'])\n",
    "sample_size = transit_table.index.stop\n",
    "print(sample_size)"
   ]
  },
  {
   "cell_type": "code",
   "execution_count": null,
   "id": "efficient-ocean",
   "metadata": {},
   "outputs": [],
   "source": [
    "        '''Graphing'''\n",
    "import matplotlib.pyplot as plt\n",
    "plt.scatter(transit_table.mass_j, transit_table.density, marker='.',color='purple')\n",
    "plt.title(\"Density vs Mass\")\n",
    "plt.xlabel(\"Mass (based on Jupiter)\")\n",
    "plt.ylabel(\"Density\")"
   ]
  },
  {
   "cell_type": "code",
   "execution_count": null,
   "id": "charming-measure",
   "metadata": {},
   "outputs": [],
   "source": [
    "        '''Graphing'''\n",
    "import matplotlib.pyplot as plt\n",
    "plt.scatter(transit_table.density,transit_table.mass_j, marker='.',color='purple')\n",
    "plt.title(\"Mass vs Density\")\n",
    "plt.ylabel(\"Mass (based on Jupiter)\")\n",
    "plt.xlabel(\"Density\")"
   ]
  },
  {
   "cell_type": "code",
   "execution_count": null,
   "id": "loaded-shannon",
   "metadata": {},
   "outputs": [],
   "source": [
    "        '''Graphing'''\n",
    "import matplotlib.pyplot as plt\n",
    "plt.scatter(transit_table.dist,transit_table.eccentricity, marker='.',color='purple')\n",
    "plt.title(\"Eccentricity vs Distance from Star\")\n",
    "plt.xlabel(\"Distance\")\n",
    "plt.ylabel(\"Eccentricity\")"
   ]
  },
  {
   "cell_type": "code",
   "execution_count": null,
   "id": "related-enclosure",
   "metadata": {},
   "outputs": [],
   "source": [
    "        '''Graphing'''\n",
    "import matplotlib.pyplot as plt\n",
    "plt.scatter(transit_table.dist, transit_table.mass_e, marker='.',color='purple')\n",
    "plt.title(\"Mass vs Distance\")\n",
    "plt.xlabel(\"Distance\")\n",
    "plt.ylabel(\"Mass\")"
   ]
  },
  {
   "cell_type": "code",
   "execution_count": null,
   "id": "exotic-shark",
   "metadata": {},
   "outputs": [],
   "source": [
    "'''Extended Data File'''\n",
    "import pandas as pd\n",
    "import os\n",
    "import numpy as np\n",
    "\n",
    "notebook_path = os.path.abspath(\"EE Graphs.ipynb\")\n",
    "data_extd_csv = os.path.join(os.path.dirname(notebook_path), 'Data Files\\\\data_extended.csv')\n",
    "\n",
    "'''formatting the csv file for pandas DataFrame'''\n",
    "table_extd = pd.read_csv(data_extd_csv)\n",
    "\n",
    "'''see what the discovery method options are'''\n",
    "s = set([])\n",
    "for line in table_extd.pl_name: s.add(line)\n",
    "print(len(s))\n",
    "print(len(table_extd.pl_name))"
   ]
  },
  {
   "cell_type": "code",
   "execution_count": null,
   "id": "dominican-criterion",
   "metadata": {},
   "outputs": [],
   "source": [
    "'''Graphing ALL planet types if they are the sole planet in their system'''\n",
    "import matplotlib.pyplot as plt\n",
    "\n",
    "with open(all_csv_1_CUT,'w') as f6a:\n",
    "                [f6a.write(str(all_table_1.loc[i].eccentricity)+\",\"\n",
    "                  +str(all_table_1.loc[i].mass_j)+\",\"\n",
    "                  +str(all_table_1.loc[i].sys_planet_num)+\"\\n\")\n",
    "                  for i,line in enumerate(all_table_1.mass_j)if float(line)<40]\n",
    "        \n",
    "all_table_1_CUT = pd.read_csv(all_csv_1_CUT, names=['eccentricity','mass_j', 'sys_planet_num'])\n",
    "# sample_size = all_table_1_CUT.index.stop\n",
    "# print(sample_size)\n",
    "\n",
    "plt.figure(figsize=(10,6))\n",
    "mass_jupiter = plt.scatter(all_table_1_CUT.mass_j, all_table_1_CUT.eccentricity)\n",
    "plt.title(\"Eccentricity vs Mass - All 1: CUT\")\n",
    "plt.ylabel(\"Orbital Eccentricity\")\n",
    "plt.xlabel(\"Mass (as a multiple of Jupiter's mass)\")\n",
    "\n",
    "'''Check to make sure that filtering worked'''\n",
    "s = set([])\n",
    "for num in all_table_1_CUT.sys_planet_num:s.add(num)\n",
    "print(s)"
   ]
  },
  {
   "cell_type": "code",
   "execution_count": null,
   "id": "powerful-abraham",
   "metadata": {},
   "outputs": [],
   "source": [
    "import matplotlib.pyplot as plt\n",
    "\n",
    "table_extd = pd.read_csv(extd)\n",
    "SOLAR = 2e30\n",
    "JUPITER = 1.898e27\n",
    "\n",
    "with open(ratio,'w') as ratfile:\n",
    "                [ratfile.write(str(table_extd.loc[i].st_mass/SOLAR)+\",\"+str(table_extd.loc[i].pl_bmassj/JUPITER)+\",\"\n",
    "                +str((table_extd.loc[i].st_mass/SOLAR)/(table_extd.loc[i].pl_bmassj/JUPITER))+\",\"+str(table_extd.loc[i].pl_orbeccen)+\"\\n\")\n",
    "                 for i,line in enumerate(table_extd.sy_pnum)if float(line)==1 and float(table_extd.loc[i].sy_snum)==1]\n",
    "        \n",
    "ratio_table = pd.read_csv(ratio, names=['solar_mass','planet_mass','sun_to_planet_mass_ratio', 'eccentricity'])\n",
    "sample_size = ratio_table.index.stop\n",
    "print(sample_size)\n",
    "\n",
    "mass_jupiter = plt.scatter(ratio_table.sun_to_planet_mass_ratio, ratio_table.eccentricity)\n",
    "\n",
    "plt.title(\"Eccentricity vs Mass Ratio\")\n",
    "plt.ylabel(\"Orbital Eccentricity\")\n",
    "plt.xlabel(\"Mass Ratio (sun/planet; kg)\")\n"
   ]
  }
 ],
 "metadata": {
  "kernelspec": {
   "display_name": "Python 3",
   "language": "python",
   "name": "python3"
  },
  "language_info": {
   "codemirror_mode": {
    "name": "ipython",
    "version": 3
   },
   "file_extension": ".py",
   "mimetype": "text/x-python",
   "name": "python",
   "nbconvert_exporter": "python",
   "pygments_lexer": "ipython3",
   "version": "3.9.1"
  }
 },
 "nbformat": 4,
 "nbformat_minor": 5
}
