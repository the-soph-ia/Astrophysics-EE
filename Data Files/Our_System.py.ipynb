{
 "cells": [
  {
   "cell_type": "code",
   "execution_count": 6,
   "id": "brown-affairs",
   "metadata": {},
   "outputs": [
    {
     "name": "stdout",
     "output_type": "stream",
     "text": [
      "  planet_name      mass_j    density  eccentricity  orb_period\n",
      "0       Earth     0.00310   5514.000         0.017       365.2\n",
      "1     Mercury     0.00017   5427.000         0.205        88.0\n",
      "2       Venus     0.00260   5423.000         0.007       224.7\n",
      "3        Mars     0.00034   3933.000         0.094       687.0\n",
      "4     Jupiter     1.00000   1326.000         0.049      4331.0\n",
      "5      Saturn     0.29900    687.000         0.057     10747.0\n",
      "6      Uranus     0.04600  12710.046     30598.000         NaN\n",
      "7     Neptune     0.05400   1638.000         0.011     59800.0\n",
      "8         Sun  1047.00000        NaN           NaN         NaN\n",
      "1047.0\n",
      "2.9608404966571155e-06\n",
      "1.623686723973257e-07\n",
      "2.4832855778414515e-06\n",
      "3.247373447946514e-07\n",
      "0.0009551098376313276\n",
      "0.00028557784145176695\n",
      "4.3935052531041066e-05\n",
      "5.157593123209169e-05\n",
      "1.0\n"
     ]
    }
   ],
   "source": [
    "'''imports'''\n",
    "import pandas as pd\n",
    "import os\n",
    "import numpy as np\n",
    "%matplotlib inline\n",
    "\n",
    "'''defining the database's file path'''\n",
    "notebook_path = os.path.abspath(\"EE Graphs.ipynb\")\n",
    "data_csv = os.path.join(os.path.dirname(notebook_path), 'our_system.csv')\n",
    "\n",
    "'''formatting the csv file for pandas DataFrame'''\n",
    "table = pd.read_csv(data_csv)\n",
    "\n",
    "print(table)\n",
    "\n",
    "SUN_M = table.loc[8].mass_j\n",
    "print(SUN_M)\n",
    "\n",
    "for el in table.mass_j:\n",
    "    print(el/SUN_M)"
   ]
  },
  {
   "cell_type": "code",
   "execution_count": null,
   "id": "accessible-society",
   "metadata": {},
   "outputs": [],
   "source": []
  }
 ],
 "metadata": {
  "kernelspec": {
   "display_name": "Python 3",
   "language": "python",
   "name": "python3"
  },
  "language_info": {
   "codemirror_mode": {
    "name": "ipython",
    "version": 3
   },
   "file_extension": ".py",
   "mimetype": "text/x-python",
   "name": "python",
   "nbconvert_exporter": "python",
   "pygments_lexer": "ipython3",
   "version": "3.9.1"
  }
 },
 "nbformat": 4,
 "nbformat_minor": 5
}
